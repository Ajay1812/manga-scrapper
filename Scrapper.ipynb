{
 "cells": [
  {
   "cell_type": "markdown",
   "metadata": {},
   "source": [
    "### User input"
   ]
  },
  {
   "cell_type": "code",
   "execution_count": 9,
   "metadata": {},
   "outputs": [],
   "source": [
    "manga_name = input(\"Enter the name of managa or manwa: \")\n",
    "manga_name = manga_name.replace(\" \", \"-\")\n",
    "chapter_range = input(\"Enter a range (e.g., 1, 100): \")\n",
    "start, end = map(int, chapter_range.split(','))"
   ]
  },
  {
   "cell_type": "code",
   "execution_count": 36,
   "metadata": {},
   "outputs": [],
   "source": [
    "# https://www.mangasub.net/manga/solo-leveling/\n",
    "import requests\n",
    "from bs4 import BeautifulSoup\n",
    "\n",
    "chapters = []\n",
    "\n",
    "for chapter in range(start, end + 1):\n",
    "    chapter = f\"{chapter:03d}\"\n",
    "    url = f'https://www.mangasub.net/manga/{manga_name}/ch-{chapter}/'\n",
    "    # print(f\"URL for Chapter {chapter}: {url}\")\n",
    "    chapters.append(url)"
   ]
  },
  {
   "cell_type": "code",
   "execution_count": 42,
   "metadata": {},
   "outputs": [],
   "source": [
    "chapter_images = []\n",
    "for chapter in chapters:\n",
    "  response = requests.get(chapter, headers=headers)\n",
    "  soup = BeautifulSoup(response.text, 'html.parser')\n",
    "  content = soup.find('div', class_=\"reading-content\")\n",
    "  \n",
    "  for image in content.findAll('img'):\n",
    "    chapter_images.append(image['src'].replace(\"\\t\\t\\t\\n\\t\\t\\t\", \"\"))"
   ]
  },
  {
   "cell_type": "code",
   "execution_count": 44,
   "metadata": {},
   "outputs": [
    {
     "data": {
      "text/plain": [
       "['https://www.mangasub.net/wp-content/uploads/WP-manga/data/manga_6679c4cc986a3/ch-001/ctc_tog_081_000.jpg',\n",
       " 'https://www.mangasub.net/wp-content/uploads/WP-manga/data/manga_6679c4cc986a3/ch-001/ctc_tog_081_001.jpg',\n",
       " 'https://www.mangasub.net/wp-content/uploads/WP-manga/data/manga_6679c4cc986a3/ch-001/ctc_tog_081_002.jpg',\n",
       " 'https://www.mangasub.net/wp-content/uploads/WP-manga/data/manga_6679c4cc986a3/ch-001/ctc_tog_081_003.jpg',\n",
       " 'https://www.mangasub.net/wp-content/uploads/WP-manga/data/manga_6679c4cc986a3/ch-001/ctc_tog_081_004.jpg',\n",
       " 'https://www.mangasub.net/wp-content/uploads/WP-manga/data/manga_6679c4cc986a3/ch-001/ctc_tog_081_005.jpg',\n",
       " 'https://www.mangasub.net/wp-content/uploads/WP-manga/data/manga_6679c4cc986a3/ch-001/ctc_tog_081_006.jpg',\n",
       " 'https://www.mangasub.net/wp-content/uploads/WP-manga/data/manga_6679c4cc986a3/ch-001/ctc_tog_081_007.jpg',\n",
       " 'https://www.mangasub.net/wp-content/uploads/WP-manga/data/manga_6679c4cc986a3/ch-001/ctc_tog_081_008.jpg',\n",
       " 'https://www.mangasub.net/wp-content/uploads/WP-manga/data/manga_6679c4cc986a3/ch-001/ctc_tog_081_009.jpg',\n",
       " 'https://www.mangasub.net/wp-content/uploads/WP-manga/data/manga_6679c4cc986a3/ch-001/ctc_tog_081_010.jpg',\n",
       " 'https://www.mangasub.net/wp-content/uploads/WP-manga/data/manga_6679c4cc986a3/ch-001/ctc_tog_081_011.jpg',\n",
       " 'https://www.mangasub.net/wp-content/uploads/WP-manga/data/manga_6679c4cc986a3/ch-001/ctc_tog_081_012.jpg',\n",
       " 'https://www.mangasub.net/wp-content/uploads/WP-manga/data/manga_6679c4cc986a3/ch-001/ctc_tog_081_013.jpg',\n",
       " 'https://www.mangasub.net/wp-content/uploads/WP-manga/data/manga_6679c4cc986a3/ch-001/ctc_tog_081_014.jpg',\n",
       " 'https://www.mangasub.net/wp-content/uploads/WP-manga/data/manga_6679c4cc986a3/ch-001/ctc_tog_081_015.jpg',\n",
       " 'https://www.mangasub.net/wp-content/uploads/WP-manga/data/manga_6679c4cc986a3/ch-001/ctc_tog_081_016.jpg',\n",
       " 'https://www.mangasub.net/wp-content/uploads/WP-manga/data/manga_6679c4cc986a3/ch-001/ctc_tog_081_017.jpg',\n",
       " 'https://www.mangasub.net/wp-content/uploads/WP-manga/data/manga_6679c4cc986a3/ch-001/ctc_tog_081_018.jpg',\n",
       " 'https://www.mangasub.net/wp-content/uploads/WP-manga/data/manga_6679c4cc986a3/ch-001/ctc_tog_081_019.jpg',\n",
       " 'https://www.mangasub.net/wp-content/uploads/WP-manga/data/manga_6679c4cc986a3/ch-001/ctc_tog_081_020.jpg',\n",
       " 'https://www.mangasub.net/wp-content/uploads/WP-manga/data/manga_6679c4cc986a3/ch-001/ctc_tog_081_021.jpg',\n",
       " 'https://www.mangasub.net/wp-content/uploads/WP-manga/data/manga_6679c4cc986a3/ch-001/ctc_tog_081_022.jpg',\n",
       " 'https://www.mangasub.net/wp-content/uploads/WP-manga/data/manga_6679c4cc986a3/ch-001/ctc_tog_081_023.jpg',\n",
       " 'https://www.mangasub.net/wp-content/uploads/WP-manga/data/manga_6679c4cc986a3/ch-001/ctc_tog_081_024.jpg',\n",
       " 'https://www.mangasub.net/wp-content/uploads/WP-manga/data/manga_6679c4cc986a3/ch-001/ctc_tog_081_025.jpg',\n",
       " 'https://www.mangasub.net/wp-content/uploads/WP-manga/data/manga_6679c4cc986a3/ch-001/ctc_tog_081_026.jpg',\n",
       " 'https://www.mangasub.net/wp-content/uploads/WP-manga/data/manga_6679c4cc986a3/ch-001/ctc_tog_081_027.jpg',\n",
       " 'https://www.mangasub.net/wp-content/uploads/WP-manga/data/manga_6679c4cc986a3/ch-001/ctc_tog_081_028.jpg',\n",
       " 'https://www.mangasub.net/wp-content/uploads/WP-manga/data/manga_6679c4cc986a3/ch-001/ctc_tog_081_029.jpg',\n",
       " 'https://www.mangasub.net/wp-content/uploads/WP-manga/data/manga_6679c4cc986a3/ch-001/ctc_tog_081_030.jpg',\n",
       " 'https://www.mangasub.net/wp-content/uploads/WP-manga/data/manga_6679c4cc986a3/ch-001/ctc_tog_081_031.jpg',\n",
       " 'https://www.mangasub.net/wp-content/uploads/WP-manga/data/manga_6679c4cc986a3/ch-001/ctc_tog_081_032.jpg',\n",
       " 'https://www.mangasub.net/wp-content/uploads/WP-manga/data/manga_6679c4cc986a3/ch-001/ctc_tog_086_032.jpg',\n",
       " 'https://www.mangasub.net/wp-content/uploads/WP-manga/data/manga_6679c4cc986a3/ch-002/htc_tog_s0e2_ch002_030.jpg',\n",
       " 'https://www.mangasub.net/wp-content/uploads/WP-manga/data/manga_6679c4cc986a3/ch-002/htc_tog_s002_ch002_001.jpg',\n",
       " 'https://www.mangasub.net/wp-content/uploads/WP-manga/data/manga_6679c4cc986a3/ch-002/htc_tog_s002_ch002_002.jpg',\n",
       " 'https://www.mangasub.net/wp-content/uploads/WP-manga/data/manga_6679c4cc986a3/ch-002/htc_tog_s002_ch002_003.jpg',\n",
       " 'https://www.mangasub.net/wp-content/uploads/WP-manga/data/manga_6679c4cc986a3/ch-002/htc_tog_s002_ch002_004.jpg',\n",
       " 'https://www.mangasub.net/wp-content/uploads/WP-manga/data/manga_6679c4cc986a3/ch-002/htc_tog_s002_ch002_005.jpg',\n",
       " 'https://www.mangasub.net/wp-content/uploads/WP-manga/data/manga_6679c4cc986a3/ch-002/htc_tog_s002_ch002_006.jpg',\n",
       " 'https://www.mangasub.net/wp-content/uploads/WP-manga/data/manga_6679c4cc986a3/ch-002/htc_tog_s002_ch002_007.jpg',\n",
       " 'https://www.mangasub.net/wp-content/uploads/WP-manga/data/manga_6679c4cc986a3/ch-002/htc_tog_s002_ch002_008.jpg',\n",
       " 'https://www.mangasub.net/wp-content/uploads/WP-manga/data/manga_6679c4cc986a3/ch-002/htc_tog_s002_ch002_009.jpg',\n",
       " 'https://www.mangasub.net/wp-content/uploads/WP-manga/data/manga_6679c4cc986a3/ch-002/htc_tog_s002_ch002_010.jpg',\n",
       " 'https://www.mangasub.net/wp-content/uploads/WP-manga/data/manga_6679c4cc986a3/ch-002/htc_tog_s002_ch002_011.jpg',\n",
       " 'https://www.mangasub.net/wp-content/uploads/WP-manga/data/manga_6679c4cc986a3/ch-002/htc_tog_s002_ch002_012.jpg',\n",
       " 'https://www.mangasub.net/wp-content/uploads/WP-manga/data/manga_6679c4cc986a3/ch-002/htc_tog_s002_ch002_013.jpg',\n",
       " 'https://www.mangasub.net/wp-content/uploads/WP-manga/data/manga_6679c4cc986a3/ch-002/htc_tog_s002_ch002_014.jpg',\n",
       " 'https://www.mangasub.net/wp-content/uploads/WP-manga/data/manga_6679c4cc986a3/ch-002/htc_tog_s002_ch002_015.jpg',\n",
       " 'https://www.mangasub.net/wp-content/uploads/WP-manga/data/manga_6679c4cc986a3/ch-002/htc_tog_s002_ch002_016.jpg',\n",
       " 'https://www.mangasub.net/wp-content/uploads/WP-manga/data/manga_6679c4cc986a3/ch-002/htc_tog_s002_ch002_017.jpg',\n",
       " 'https://www.mangasub.net/wp-content/uploads/WP-manga/data/manga_6679c4cc986a3/ch-002/htc_tog_s002_ch002_018.jpg',\n",
       " 'https://www.mangasub.net/wp-content/uploads/WP-manga/data/manga_6679c4cc986a3/ch-002/htc_tog_s002_ch002_019.jpg',\n",
       " 'https://www.mangasub.net/wp-content/uploads/WP-manga/data/manga_6679c4cc986a3/ch-002/htc_tog_s002_ch002_020.jpg',\n",
       " 'https://www.mangasub.net/wp-content/uploads/WP-manga/data/manga_6679c4cc986a3/ch-002/htc_tog_s002_ch002_021.jpg',\n",
       " 'https://www.mangasub.net/wp-content/uploads/WP-manga/data/manga_6679c4cc986a3/ch-002/htc_tog_s002_ch002_022.jpg',\n",
       " 'https://www.mangasub.net/wp-content/uploads/WP-manga/data/manga_6679c4cc986a3/ch-002/htc_tog_s002_ch002_023.jpg',\n",
       " 'https://www.mangasub.net/wp-content/uploads/WP-manga/data/manga_6679c4cc986a3/ch-002/htc_tog_s002_ch002_024.jpg',\n",
       " 'https://www.mangasub.net/wp-content/uploads/WP-manga/data/manga_6679c4cc986a3/ch-002/htc_tog_s002_ch002_025.jpg',\n",
       " 'https://www.mangasub.net/wp-content/uploads/WP-manga/data/manga_6679c4cc986a3/ch-002/htc_tog_s002_ch002_026.jpg',\n",
       " 'https://www.mangasub.net/wp-content/uploads/WP-manga/data/manga_6679c4cc986a3/ch-002/htc_tog_s002_ch002_027.jpg',\n",
       " 'https://www.mangasub.net/wp-content/uploads/WP-manga/data/manga_6679c4cc986a3/ch-002/htc_tog_s002_ch002_028.jpg',\n",
       " 'https://www.mangasub.net/wp-content/uploads/WP-manga/data/manga_6679c4cc986a3/ch-002/htc_tog_s002_ch002_029.jpg',\n",
       " 'https://www.mangasub.net/wp-content/uploads/WP-manga/data/manga_6679c4cc986a3/ch-002/htc_tog_s002_ch002_030.jpg']"
      ]
     },
     "execution_count": 44,
     "metadata": {},
     "output_type": "execute_result"
    }
   ],
   "source": [
    "chapter_images"
   ]
  },
  {
   "cell_type": "code",
   "execution_count": 71,
   "metadata": {},
   "outputs": [
    {
     "name": "stdout",
     "output_type": "stream",
     "text": [
      "Fetching data for Chapter 001 from https://www.mangasub.net/manga/solo-leveling/ch-001/\n",
      "Fetching data for Chapter 002 from https://www.mangasub.net/manga/solo-leveling/ch-002/\n",
      "Data saved to the database successfully!\n"
     ]
    }
   ],
   "source": [
    "import sqlite3\n",
    "import requests\n",
    "from bs4 import BeautifulSoup\n",
    "import pandas as pd\n",
    "import time\n",
    "\n",
    "manga_name = input(\"Enter the name of manga or manhwa: \").lower().replace(\" \", \"-\")\n",
    "chapter_range = input(\"Enter a range (e.g., 1, 100): \")\n",
    "start, end = map(int, chapter_range.split(','))\n",
    "\n",
    "conn = sqlite3.connect('manga_data.db')\n",
    "cursor = conn.cursor()\n",
    "\n",
    "cursor.execute('''\n",
    "CREATE TABLE IF NOT EXISTS manga (\n",
    "    id INTEGER PRIMARY KEY AUTOINCREMENT,\n",
    "    manga_name TEXT,\n",
    "    chapter TEXT,\n",
    "    chapter_url TEXT,\n",
    "    image_url TEXT\n",
    "    )\n",
    "''')\n",
    "\n",
    "# data = []\n",
    "\n",
    "\n",
    "for chapter in range(start, end + 1):\n",
    "    chapter_formatted = f\"{chapter:03d}\"  # Format chapter number with leading zeros\n",
    "    chapter_url = f'https://www.mangasub.net/manga/{manga_name}/ch-{chapter_formatted}/'\n",
    "    print(f\"Fetching data for Chapter {chapter_formatted} from {chapter_url}\")\n",
    "    \n",
    "    response = requests.get(chapter_url)\n",
    "    if response.status_code == 200:\n",
    "        soup = BeautifulSoup(response.content, 'html.parser')\n",
    "        \n",
    "        content = soup.find('div', class_=\"reading-content\")\n",
    "        if content:\n",
    "            image_urls = [img['src'].replace(\"\\t\\t\\t\\n\\t\\t\\t\", \"\") for img in content.find_all('img') if img.has_attr('src') and img['src'].strip()]\n",
    "            # image_urls_str = \",\".join(image_urls)\n",
    "            image_urls_json = json.dumps(image_urls)\n",
    "            try:\n",
    "                cursor.execute('''\n",
    "                    INSERT INTO manga (manga_name, chapter, chapter_url, image_url)\n",
    "                    VALUES (?, ?, ?, ?)\n",
    "                ''', (manga_name.replace(\"-\", \" \"), chapter_formatted, chapter_url, image_urls_json))  \n",
    "            except Exception as e:\n",
    "                print(f\"Error inserting data: {e}\")\n",
    "        time.sleep(1)\n",
    "    else:\n",
    "        print(f\"Failed to fetch Chapter {chapter_formatted}: {response.status_code}\")\n",
    "\n",
    "conn.commit()\n",
    "conn.close()\n",
    "\n",
    "print(\"Data saved to the database successfully!\")"
   ]
  },
  {
   "cell_type": "code",
   "execution_count": null,
   "metadata": {},
   "outputs": [],
   "source": []
  }
 ],
 "metadata": {
  "kernelspec": {
   "display_name": "de-venv",
   "language": "python",
   "name": "de-venv"
  },
  "language_info": {
   "codemirror_mode": {
    "name": "ipython",
    "version": 3
   },
   "file_extension": ".py",
   "mimetype": "text/x-python",
   "name": "python",
   "nbconvert_exporter": "python",
   "pygments_lexer": "ipython3",
   "version": "3.12.2"
  }
 },
 "nbformat": 4,
 "nbformat_minor": 2
}
