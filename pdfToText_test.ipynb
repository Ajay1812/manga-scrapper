{
 "cells": [
  {
   "cell_type": "code",
   "execution_count": 11,
   "id": "46149772-0ae6-4a86-82c4-9eacab5cfbd5",
   "metadata": {},
   "outputs": [],
   "source": [
    "from pyspark.sql import SparkSession\n",
    "from pyspark.sql.functions import udf\n",
    "from pyspark.sql.types import StringType\n",
    "import os\n",
    "from pdf2image import convert_from_path\n",
    "import pytesseract\n",
    "import re\n",
    "import sqlite3"
   ]
  },
  {
   "cell_type": "code",
   "execution_count": 12,
   "id": "7d746d7d-5b26-4bf2-be92-d988ffd70ce7",
   "metadata": {},
   "outputs": [],
   "source": [
    "spark = SparkSession.builder.appName(\"text extract from pdf\").getOrCreate()"
   ]
  },
  {
   "cell_type": "code",
   "execution_count": 13,
   "id": "53763984-7e36-4f6d-be96-75d6d1f56780",
   "metadata": {},
   "outputs": [],
   "source": [
    "def extract_text_ocr(pdf_path) -> str:\n",
    "    images = convert_from_path(pdf_path)\n",
    "    text = \"\\n\".join([pytesseract.image_to_string(img) for img in images])\n",
    "    return text"
   ]
  },
  {
   "cell_type": "code",
   "execution_count": 14,
   "id": "1d2757d9-f1ed-4109-85f4-1ff79b5a7adc",
   "metadata": {},
   "outputs": [],
   "source": [
    "def clean_text(text) -> str:\n",
    "    text = re.sub(r'[^A-Za-z0-9.,!?\\'\\\"\\n ]+', ' ', text)\n",
    "    text = re.sub(r'\\n{3,}', '\\n\\n', text)  # Reduce excessive newlines but keep paragraph breaks\n",
    "    text = re.sub(r' +', ' ', text).strip()  # Normalize spaces\n",
    "    return text"
   ]
  },
  {
   "cell_type": "code",
   "execution_count": 15,
   "id": "5f109280-c5d6-4bc0-ba2e-fc54a64f670e",
   "metadata": {},
   "outputs": [],
   "source": [
    "manga_dir = \"./data/stored_manga/pdfs\"\n",
    "manga_names = [d for d in os.listdir(manga_dir) if os.path.isdir(os.path.join(manga_dir, d))]"
   ]
  },
  {
   "cell_type": "code",
   "execution_count": 16,
   "id": "2458b68a-0f13-4d40-93c2-7c55293d5023",
   "metadata": {},
   "outputs": [
    {
     "data": {
      "text/plain": [
       "['solo_leveling']"
      ]
     },
     "execution_count": 16,
     "metadata": {},
     "output_type": "execute_result"
    }
   ],
   "source": [
    "manga_names"
   ]
  },
  {
   "cell_type": "code",
   "execution_count": 17,
   "id": "5a9191cc-bd46-4b8d-9450-c8c86b312367",
   "metadata": {},
   "outputs": [],
   "source": [
    "pdf_path = os.path.join(manga_dir, 'solo_leveling')\n",
    "pdf_files = os.listdir(pdf_path)\n",
    "pdf_files = [f for f in pdf_files if f.endswith('.pdf')]\n",
    "sorted_files = sorted(pdf_files, key=lambda x: int(x.split('_')[1].split('.')[0]))[0:10]"
   ]
  },
  {
   "cell_type": "code",
   "execution_count": 18,
   "id": "4ebdb113-2041-4a74-bd80-e85889e750c6",
   "metadata": {},
   "outputs": [
    {
     "data": {
      "text/plain": [
       "['chapter_1.pdf',\n",
       " 'chapter_2.pdf',\n",
       " 'chapter_3.pdf',\n",
       " 'chapter_4.pdf',\n",
       " 'chapter_5.pdf',\n",
       " 'chapter_6.pdf',\n",
       " 'chapter_7.pdf',\n",
       " 'chapter_8.pdf',\n",
       " 'chapter_9.pdf',\n",
       " 'chapter_10.pdf']"
      ]
     },
     "execution_count": 18,
     "metadata": {},
     "output_type": "execute_result"
    }
   ],
   "source": [
    "sorted_files"
   ]
  },
  {
   "cell_type": "code",
   "execution_count": 19,
   "id": "ab3089af-52e3-466b-892f-c27a863916d0",
   "metadata": {},
   "outputs": [],
   "source": [
    "file_path = []\n",
    "\n",
    "for pdf_file in sorted_files:\n",
    "    file_path.append(os.path.join(pdf_path, pdf_file))"
   ]
  },
  {
   "cell_type": "code",
   "execution_count": 20,
   "id": "f036fb3f-7159-47d0-a688-5f17e10497a2",
   "metadata": {
    "scrolled": true
   },
   "outputs": [
    {
     "data": {
      "text/plain": [
       "['./data/stored_manga/pdfs/solo_leveling/chapter_1.pdf',\n",
       " './data/stored_manga/pdfs/solo_leveling/chapter_2.pdf',\n",
       " './data/stored_manga/pdfs/solo_leveling/chapter_3.pdf',\n",
       " './data/stored_manga/pdfs/solo_leveling/chapter_4.pdf',\n",
       " './data/stored_manga/pdfs/solo_leveling/chapter_5.pdf',\n",
       " './data/stored_manga/pdfs/solo_leveling/chapter_6.pdf',\n",
       " './data/stored_manga/pdfs/solo_leveling/chapter_7.pdf',\n",
       " './data/stored_manga/pdfs/solo_leveling/chapter_8.pdf',\n",
       " './data/stored_manga/pdfs/solo_leveling/chapter_9.pdf',\n",
       " './data/stored_manga/pdfs/solo_leveling/chapter_10.pdf']"
      ]
     },
     "execution_count": 20,
     "metadata": {},
     "output_type": "execute_result"
    }
   ],
   "source": [
    "file_path"
   ]
  },
  {
   "cell_type": "code",
   "execution_count": 21,
   "id": "54a2e313-a48d-49de-b1fd-cf9a9012046b",
   "metadata": {},
   "outputs": [],
   "source": [
    "df = spark.createDataFrame([(path,) for path in file_path], [\"file_path\"])"
   ]
  },
  {
   "cell_type": "code",
   "execution_count": 22,
   "id": "cd567bc0-adc6-4fdb-845d-a478777d072b",
   "metadata": {},
   "outputs": [
    {
     "name": "stderr",
     "output_type": "stream",
     "text": [
      "                                                                                "
     ]
    },
    {
     "name": "stdout",
     "output_type": "stream",
     "text": [
      "+----------------------------------------------------+\n",
      "|file_path                                           |\n",
      "+----------------------------------------------------+\n",
      "|./data/stored_manga/pdfs/solo_leveling/chapter_1.pdf|\n",
      "|./data/stored_manga/pdfs/solo_leveling/chapter_2.pdf|\n",
      "|./data/stored_manga/pdfs/solo_leveling/chapter_3.pdf|\n",
      "|./data/stored_manga/pdfs/solo_leveling/chapter_4.pdf|\n",
      "|./data/stored_manga/pdfs/solo_leveling/chapter_5.pdf|\n",
      "+----------------------------------------------------+\n",
      "only showing top 5 rows\n",
      "\n"
     ]
    }
   ],
   "source": [
    "df.show(5,truncate=False)"
   ]
  },
  {
   "cell_type": "code",
   "execution_count": 32,
   "id": "c514d5e9-591e-4a01-830f-72050e73c0cc",
   "metadata": {
    "scrolled": true
   },
   "outputs": [
    {
     "name": "stderr",
     "output_type": "stream",
     "text": [
      "[Stage 3:============================================>              (3 + 1) / 4]"
     ]
    },
    {
     "name": "stdout",
     "output_type": "stream",
     "text": [
      "+--------------------+--------------------+\n",
      "|           file_path|      extracted_text|\n",
      "+--------------------+--------------------+\n",
      "|./data/stored_man...|MY NAME\\nIS SUNG\\...|\n",
      "|./data/stored_man...|ALL CLEAR!\\nLET S...|\n",
      "|./data/stored_man...|Merakiscans.com\\n...|\n",
      "|./data/stored_man...|Merakiscans.com\\n...|\n",
      "|./data/stored_man...|wa\\na es at 7 AS\\...|\n",
      "+--------------------+--------------------+\n",
      "only showing top 5 rows\n",
      "\n",
      "CPU times: user 18.5 ms, sys: 33.7 ms, total: 52.2 ms\n",
      "Wall time: 2min 2s\n"
     ]
    },
    {
     "name": "stderr",
     "output_type": "stream",
     "text": [
      "                                                                                "
     ]
    }
   ],
   "source": [
    "%%time\n",
    "ocr_udf = udf(extract_text_ocr, StringType())\n",
    "clean_udf = udf(clean_text, StringType())\n",
    "\n",
    "df_with_text = df.withColumn(\"extracted_text\", clean_udf(ocr_udf(df[\"file_path\"])))\n",
    "\n",
    "df_with_text.show(5)"
   ]
  },
  {
   "cell_type": "code",
   "execution_count": 33,
   "id": "2763a264-1c26-492a-b819-4b3ce93a07fe",
   "metadata": {},
   "outputs": [
    {
     "name": "stderr",
     "output_type": "stream",
     "text": [
      "[Stage 4:===================================================>       (7 + 1) / 8]"
     ]
    },
    {
     "name": "stdout",
     "output_type": "stream",
     "text": [
      "CPU times: user 23.6 ms, sys: 156 ms, total: 180 ms\n",
      "Wall time: 2min 30s\n"
     ]
    },
    {
     "name": "stderr",
     "output_type": "stream",
     "text": [
      "                                                                                "
     ]
    }
   ],
   "source": [
    "%%time\n",
    "df = df_with_text.collect()"
   ]
  },
  {
   "cell_type": "code",
   "execution_count": 34,
   "id": "904d45c1-c166-49a9-ba4f-458fba41f484",
   "metadata": {},
   "outputs": [],
   "source": [
    "# Connect to database\n",
    "conn = sqlite3.connect(\"manga_data.db\")\n",
    "cursor = conn.cursor()\n",
    "\n",
    "cursor.execute(\"PRAGMA table_info(manga)\")\n",
    "columns = [col[1] for col in cursor.fetchall()]\n",
    "if \"extracted_text\" not in columns:\n",
    "    cursor.execute(\"ALTER TABLE manga ADD COLUMN extracted_text TEXT;\")"
   ]
  },
  {
   "cell_type": "code",
   "execution_count": 35,
   "id": "150e5d66-1de1-4705-8a0a-cb40ee91b043",
   "metadata": {},
   "outputs": [
    {
     "data": {
      "text/plain": [
       "['id',\n",
       " 'manga_name',\n",
       " 'chapter',\n",
       " 'chapter_url',\n",
       " 'image_url',\n",
       " 'created_at',\n",
       " 'extracted_text']"
      ]
     },
     "execution_count": 35,
     "metadata": {},
     "output_type": "execute_result"
    }
   ],
   "source": [
    "columns"
   ]
  },
  {
   "cell_type": "code",
   "execution_count": 42,
   "id": "e0498adb-dd01-4f34-b655-db1483fceff1",
   "metadata": {},
   "outputs": [
    {
     "name": "stdout",
     "output_type": "stream",
     "text": [
      "solo leveling\n",
      "solo leveling\n",
      "solo leveling\n",
      "solo leveling\n",
      "solo leveling\n",
      "solo leveling\n",
      "solo leveling\n",
      "solo leveling\n",
      "solo leveling\n",
      "solo leveling\n"
     ]
    }
   ],
   "source": [
    "for row in df:\n",
    "    file_path = row['file_path']\n",
    "    extracted_text = row['extracted_text']\n",
    "    \n",
    "    manga_name = file_path.split('/')[-2].replace(\"_\",\" \") \n",
    "    print(manga_name)\n",
    "    exit(0)\n",
    "    chapter = int(file_path.split('/')[-1].split('_')[1].split('.')[0])  \n",
    "    # Update the database\n",
    "    cursor.execute(\"\"\"\n",
    "        UPDATE manga\n",
    "        SET extracted_text = ?\n",
    "        WHERE manga_name = ? AND chapter = ?;\n",
    "    \"\"\", (extracted_text, manga_name, chapter))\n",
    "\n",
    "conn.commit()\n"
   ]
  },
  {
   "cell_type": "code",
   "execution_count": null,
   "id": "11405a5e-9fc1-443a-986a-9ee5ebbfa7ee",
   "metadata": {},
   "outputs": [],
   "source": []
  }
 ],
 "metadata": {
  "kernelspec": {
   "display_name": "Python 3 (ipykernel)",
   "language": "python",
   "name": "python3"
  },
  "language_info": {
   "codemirror_mode": {
    "name": "ipython",
    "version": 3
   },
   "file_extension": ".py",
   "mimetype": "text/x-python",
   "name": "python",
   "nbconvert_exporter": "python",
   "pygments_lexer": "ipython3",
   "version": "3.12.2"
  }
 },
 "nbformat": 4,
 "nbformat_minor": 5
}
